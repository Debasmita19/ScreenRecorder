{
 "cells": [
  {
   "cell_type": "code",
   "execution_count": 1,
   "id": "95b219cc",
   "metadata": {},
   "outputs": [
    {
     "name": "stdout",
     "output_type": "stream",
     "text": [
      "End\n"
     ]
    }
   ],
   "source": [
    "import cv2\n",
    "import pyautogui\n",
    "from win32api import GetSystemMetrics\n",
    "import numpy as np\n",
    "import time\n",
    "\n",
    "width = GetSystemMetrics(0)\n",
    "height= GetSystemMetrics(0)\n",
    "\n",
    "dim=(width,height)\n",
    "\n",
    "\n",
    "f = cv2.VideoWriter_fourcc(*\"XVID\")\n",
    "\n",
    "output=cv2.VideoWriter(\"test.mp4\",f,30.0,dim)\n",
    "\n",
    "\n",
    "now_St_time=time.time()\n",
    "\n",
    "dur=10\n",
    "\n",
    "end_time=now_St_time+dur\n",
    "\n",
    "while True:\n",
    "    image=pyautogui.screenshot()\n",
    "    frame_1=np.array(image)\n",
    "    frame=cv2.cvtColor(frame_1,cv2.COLOR_BGR2RGB)\n",
    "    \n",
    "    output.write(frame)\n",
    "    \n",
    "    c_time=time.time()\n",
    "    \n",
    "    if c_time > end_time:\n",
    "        break\n",
    "        \n",
    "output.release()\n",
    "\n",
    "print(\"End\")\n",
    "    "
   ]
  },
  {
   "cell_type": "code",
   "execution_count": null,
   "id": "d1c7706a",
   "metadata": {},
   "outputs": [],
   "source": []
  }
 ],
 "metadata": {
  "kernelspec": {
   "display_name": "Python 3 (ipykernel)",
   "language": "python",
   "name": "python3"
  },
  "language_info": {
   "codemirror_mode": {
    "name": "ipython",
    "version": 3
   },
   "file_extension": ".py",
   "mimetype": "text/x-python",
   "name": "python",
   "nbconvert_exporter": "python",
   "pygments_lexer": "ipython3",
   "version": "3.10.9"
  }
 },
 "nbformat": 4,
 "nbformat_minor": 5
}
